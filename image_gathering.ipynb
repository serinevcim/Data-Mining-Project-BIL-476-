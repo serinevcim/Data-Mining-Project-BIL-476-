{
 "cells": [
  {
   "cell_type": "code",
   "execution_count": 2,
   "id": "0f8bd246",
   "metadata": {},
   "outputs": [],
   "source": [
    "import os\n",
    "import requests\n",
    "import pandas as pd\n",
    "import mimetypes\n",
    "from google.oauth2.credentials import Credentials\n",
    "from google_auth_oauthlib.flow import InstalledAppFlow\n",
    "from googleapiclient.discovery import build\n",
    "from tqdm import tqdm\n",
    "import requests\n",
    "import mimetypes\n",
    "from googleapiclient.http import MediaIoBaseUpload\n",
    "import io"
   ]
  },
  {
   "cell_type": "markdown",
   "id": "f71306fd",
   "metadata": {},
   "source": [
    "Loaded data into MyDrive by using Google Drive API. Connected to my drive and loaded the images into there."
   ]
  },
  {
   "cell_type": "code",
   "execution_count": 3,
   "id": "4b46627d",
   "metadata": {},
   "outputs": [],
   "source": [
    "# Authenticate and connect to Google Drive\n",
    "SCOPES = ['https://www.googleapis.com/auth/drive.file']\n",
    "\n",
    "def authenticate():\n",
    "    flow = InstalledAppFlow.from_client_secrets_file('credentials.json', SCOPES)\n",
    "    creds = flow.run_local_server(port=0)\n",
    "    return build('drive', 'v3', credentials=creds)\n",
    "\n",
    "# Check/create folder\n",
    "def get_or_create_folder(service, folder_name, parent_id=None):\n",
    "    query = f\"name='{folder_name}' and mimeType='application/vnd.google-apps.folder'\"\n",
    "    if parent_id:\n",
    "        query += f\" and '{parent_id}' in parents\"\n",
    "\n",
    "    results = service.files().list(q=query, fields=\"files(id, name)\").execute()\n",
    "    folders = results.get('files', [])\n",
    "\n",
    "    if folders:\n",
    "        return folders[0]['id']\n",
    "    else:\n",
    "        file_metadata = {\n",
    "            'name': folder_name,\n",
    "            'mimeType': 'application/vnd.google-apps.folder',\n",
    "        }\n",
    "        if parent_id:\n",
    "            file_metadata['parents'] = [parent_id]\n",
    "\n",
    "        folder = service.files().create(body=file_metadata, fields='id').execute()\n",
    "        return folder['id']\n",
    "    \n",
    "# Get list of files already uploaded in the folder\n",
    "def get_uploaded_filenames(service, folder_id):\n",
    "    uploaded_filenames = set()\n",
    "    page_token = None\n",
    "    while True:\n",
    "        response = service.files().list(\n",
    "            q=f\"'{folder_id}' in parents and trashed = false\",\n",
    "            spaces='drive',\n",
    "            fields='nextPageToken, files(name)',\n",
    "            pageToken=page_token\n",
    "        ).execute()\n",
    "        for file in response.get('files', []):\n",
    "            uploaded_filenames.add(file['name'])\n",
    "        page_token = response.get('nextPageToken', None)\n",
    "        if page_token is None:\n",
    "            break\n",
    "    return uploaded_filenames\n",
    "\n",
    "\n",
    "# Upload image to Drive\n",
    "def upload_image(service, image_url, filename, folder_id):\n",
    "    try:\n",
    "        response = requests.get(image_url)\n",
    "        if response.status_code == 200:\n",
    "            mime_type = mimetypes.guess_type(filename)[0]\n",
    "            file_metadata = {\n",
    "                'name': filename,\n",
    "                'parents': [folder_id]\n",
    "            }\n",
    "            media = {\n",
    "                'mimeType': mime_type,\n",
    "                'body': response.content\n",
    "            }\n",
    "\n",
    "            from googleapiclient.http import MediaIoBaseUpload\n",
    "            import io\n",
    "\n",
    "            media_body = MediaIoBaseUpload(io.BytesIO(response.content), mimetype=mime_type, resumable=True)\n",
    "            service.files().create(body=file_metadata, media_body=media_body, fields='id').execute()\n",
    "    except Exception as e:\n",
    "        print(f\"Failed to upload {filename}: {e}\")\n",
    "\n",
    "# Main function to run the process\n",
    "def download_and_upload_images(dataframe, image_url_column='image_url'):\n",
    "    service = authenticate()\n",
    "\n",
    "    outer_folder_id = get_or_create_folder(service, 'Data Mining 476')\n",
    "    project_folder_id = get_or_create_folder(service, 'project_images', parent_id=outer_folder_id)\n",
    "\n",
    "    uploaded_filenames = get_uploaded_filenames(service, project_folder_id)\n",
    "\n",
    "    for idx, row in tqdm(dataframe.iterrows(), total=len(dataframe)):\n",
    "        filename = f\"image_{idx}.jpg\"\n",
    "        if filename in uploaded_filenames:\n",
    "            continue  # Skip if already uploaded\n",
    "        image_url = row[image_url_column]\n",
    "        upload_image(service, image_url, filename, project_folder_id)"
   ]
  },
  {
   "cell_type": "code",
   "execution_count": 4,
   "id": "f73c47f8",
   "metadata": {},
   "outputs": [
    {
     "name": "stdout",
     "output_type": "stream",
     "text": [
      "Please visit this URL to authorize this application: https://accounts.google.com/o/oauth2/auth?response_type=code&client_id=202968894204-muo6t8rq86fgjq8596rnkt4os6n7fksa.apps.googleusercontent.com&redirect_uri=http%3A%2F%2Flocalhost%3A65098%2F&scope=https%3A%2F%2Fwww.googleapis.com%2Fauth%2Fdrive.file&state=YVIOVJJNUZvut5H7ElCLjlWlY8UwZO&access_type=offline\n"
     ]
    },
    {
     "name": "stderr",
     "output_type": "stream",
     "text": [
      "100%|██████████| 19584/19584 [11:25:52<00:00,  2.10s/it]  \n"
     ]
    }
   ],
   "source": [
    "df = pd.read_csv('balanced_data.csv')  # or use the DataFrame directly if loaded\n",
    "download_and_upload_images(df)"
   ]
  }
 ],
 "metadata": {
  "kernelspec": {
   "display_name": ".venv",
   "language": "python",
   "name": "python3"
  },
  "language_info": {
   "codemirror_mode": {
    "name": "ipython",
    "version": 3
   },
   "file_extension": ".py",
   "mimetype": "text/x-python",
   "name": "python",
   "nbconvert_exporter": "python",
   "pygments_lexer": "ipython3",
   "version": "3.11.0"
  }
 },
 "nbformat": 4,
 "nbformat_minor": 5
}
